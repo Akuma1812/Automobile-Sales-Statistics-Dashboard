{
 "cells": [
  {
   "metadata": {
    "ExecuteTime": {
     "end_time": "2024-07-16T06:24:56.261136Z",
     "start_time": "2024-07-16T06:24:52.190167Z"
    }
   },
   "cell_type": "code",
   "source": [
    "import dash\n",
    "import dash_html_components as html\n",
    "import dash_core_components as dcc\n",
    "from dash.dependencies import Input, Output\n",
    "import plotly.express as px\n",
    "import pandas as pd\n",
    "\n",
    "# URL to the CSV file\n",
    "URL = \"https://cf-courses-data.s3.us.cloud-object-storage.appdomain.cloud/IBMDeveloperSkillsNetwork-DV0101EN-SkillsNetwork/Data%20Files/historical_automobile_sales.csv\"\n",
    "\n",
    "# Load the data\n",
    "df = pd.read_csv(URL)\n",
    "print('Data downloaded and read into a dataframe!')\n",
    "\n",
    "# Initialize the Dash app\n",
    "app = dash.Dash(__name__)\n",
    "\n",
    "year_list = [i for i in range(1980, 2024)]\n",
    "\n",
    "app.layout = html.Div(children=[\n",
    "    html.H1(\"Automobile Sales Statistics Dashboard\",\n",
    "            style={'textAlign': 'center', 'color': '#503D36', 'font-size': 26}),\n",
    "    \n",
    "    dcc.Dropdown(\n",
    "        id='dropdown-statistics',\n",
    "        options=[\n",
    "            {'label': 'Yearly Statistics', 'value': 'Yearly Statistics'},\n",
    "            {'label': 'Recession Period Statistics', 'value': 'Recession Period Statistics'}\n",
    "        ],\n",
    "        placeholder='Select a report type',\n",
    "        value=\"Select Statistics\",\n",
    "        style={'width': '60%', 'padding': '3px', 'font-size': '20px', 'text-align-last': 'center'}\n",
    "    ),\n",
    "    dcc.Dropdown(\n",
    "        id=\"select-year\",\n",
    "        options=[{'label': str(i), 'value': i} for i in year_list],\n",
    "        placeholder=\"Select year\",\n",
    "        value=\"Select year\",\n",
    "        style={'width': '60%', 'padding': '3px', 'font-size': '20px', 'text-align-last': 'center'}\n",
    "    ),\n",
    "    html.Div([\n",
    "        html.Div(id=\"output-container\", className=\"chart-grid\", )\n",
    "    ])\n",
    "])\n",
    "\n",
    "# Disable year selection based on selected statistics\n",
    "@app.callback(\n",
    "    Output(component_id=\"select-year\", component_property=\"disabled\"),\n",
    "    Input(component_id=\"dropdown-statistics\", component_property=\"value\")\n",
    ")\n",
    "def update_input_container(selected_statistics):\n",
    "    return False if selected_statistics == 'Yearly Statistics' else True\n",
    "\n",
    "# Update output container based on selected statistics and year\n",
    "@app.callback(\n",
    "    Output(component_id='output-container', component_property='children'),\n",
    "    [Input(component_id='dropdown-statistics', component_property='value'),\n",
    "     Input(component_id='select-year', component_property='value')]\n",
    ")\n",
    "def update_output_container(selected_statistics, selected_year):\n",
    "    if selected_statistics == 'Recession Period Statistics':\n",
    "        recession_data = df[df['Recession'] == 1]\n",
    "        yearly_rec = recession_data.groupby('Year')['Automobile_Sales'].mean().reset_index()\n",
    "        R_chart1 = dcc.Graph(figure=px.line(yearly_rec, x='Year', y='Automobile_Sales', title=\"ANNUAL AUTOMOBILE SALES During Recession\"))\n",
    "       \n",
    "        average_sales = recession_data.groupby('Vehicle_Type')['Automobile_Sales'].mean().reset_index()\n",
    "        R_chart2 = dcc.Graph(figure=px.bar(average_sales, x=\"Vehicle_Type\", y=\"Automobile_Sales\", title=\"Vehicle_Type VS Sales\"))\n",
    "        \n",
    "        exp_rec = recession_data.groupby('Vehicle_Type')[\"Advertising_Expenditure\"].sum().reset_index()\n",
    "        R_chart3 = dcc.Graph(figure=px.pie(exp_rec, values='Advertising_Expenditure', names='Vehicle_Type', title=\"Advertisement Expenditure for Different Vehicles\"))\n",
    "        \n",
    "        unemp_data = recession_data.groupby(['unemployment_rate', 'Vehicle_Type'])['Automobile_Sales'].mean().reset_index()\n",
    "        R_chart4 = dcc.Graph(figure=px.bar(unemp_data, x='unemployment_rate', y='Automobile_Sales', color='Vehicle_Type', labels={'unemployment_rate': 'Unemployment Rate', 'Automobile_Sales': 'Average Automobile Sales'}, title='Effect of Unemployment Rate on Sales of Diff Vehicles'))\n",
    "        \n",
    "        return [\n",
    "            html.Div(className='chart-item', children=[html.Div(children=R_chart1), html.Div(children=R_chart2)], style={'display': 'flex'}),\n",
    "            html.Div(className='chart-item', children=[html.Div(children=R_chart3), html.Div(children=R_chart4)], style={'display': 'flex'})\n",
    "        ]\n",
    "    \n",
    "    elif selected_year and selected_statistics == 'Yearly Statistics':\n",
    "        yearly_data = df[df['Year'] == int(selected_year)]\n",
    "        yas = yearly_data.groupby('Year')['Automobile_Sales'].mean().reset_index()\n",
    "        Y_chart1 = dcc.Graph(figure=px.line(yas, x='Year', y='Automobile_Sales', title=\"ANNUAL AUTOMOBILE SALES\"))\n",
    "        \n",
    "        mas = yearly_data.groupby('Month')['Automobile_Sales'].mean().reset_index()\n",
    "        Y_chart2 = dcc.Graph(figure=px.line(mas, x=\"Month\", y=\"Automobile_Sales\", title=\"MONTHLY AUTOMOBILE SALES\"))\n",
    "        \n",
    "        avr_vdata = yearly_data.groupby('Vehicle_Type')[\"Automobile_Sales\"].mean().reset_index()\n",
    "        Y_chart3 = dcc.Graph(figure=px.bar(avr_vdata, x=\"Vehicle_Type\", y=\"Automobile_Sales\", title='Average Vehicles Sold by Vehicle Type in the year {}'.format(selected_year)))\n",
    "        \n",
    "        exp_data = yearly_data.groupby('Vehicle_Type')['Advertising_Expenditure'].sum().reset_index()\n",
    "        Y_chart4 = dcc.Graph(figure=px.pie(exp_data, values='Advertising_Expenditure', names=\"Vehicle_Type\", title='Total Advertisement Expenditure for Each Vehicle'))\n",
    "        \n",
    "        return [\n",
    "            html.Div(className='chart-item', children=[html.Div(children=Y_chart1), html.Div(children=Y_chart2)], style={'display': 'flex'}),\n",
    "            html.Div(className='chart-item', children=[html.Div(children=Y_chart3), html.Div(children=Y_chart4)], style={'display': 'flex'})\n",
    "        ]\n",
    "\n",
    "if __name__ == '__main__':\n",
    "    app.run_server(debug=True)\n"
   ],
   "id": "4e690291af513b49",
   "outputs": [
    {
     "name": "stderr",
     "output_type": "stream",
     "text": [
      "C:\\Users\\ps289\\AppData\\Local\\Temp\\ipykernel_23560\\1995523463.py:2: UserWarning: \n",
      "The dash_html_components package is deprecated. Please replace\n",
      "`import dash_html_components as html` with `from dash import html`\n",
      "  import dash_html_components as html\n",
      "C:\\Users\\ps289\\AppData\\Local\\Temp\\ipykernel_23560\\1995523463.py:3: UserWarning: \n",
      "The dash_core_components package is deprecated. Please replace\n",
      "`import dash_core_components as dcc` with `from dash import dcc`\n",
      "  import dash_core_components as dcc\n"
     ]
    },
    {
     "name": "stdout",
     "output_type": "stream",
     "text": [
      "Data downloaded and read into a dataframe!\n"
     ]
    },
    {
     "data": {
      "text/plain": [
       "<IPython.lib.display.IFrame at 0x225f53e3010>"
      ],
      "text/html": [
       "\n",
       "        <iframe\n",
       "            width=\"100%\"\n",
       "            height=\"650\"\n",
       "            src=\"http://127.0.0.1:8050/\"\n",
       "            frameborder=\"0\"\n",
       "            allowfullscreen\n",
       "            \n",
       "        ></iframe>\n",
       "        "
      ]
     },
     "metadata": {},
     "output_type": "display_data"
    }
   ],
   "execution_count": 1
  },
  {
   "metadata": {},
   "cell_type": "code",
   "outputs": [],
   "execution_count": null,
   "source": "",
   "id": "99422d605b411f11"
  }
 ],
 "metadata": {
  "kernelspec": {
   "display_name": "Python 3",
   "language": "python",
   "name": "python3"
  },
  "language_info": {
   "codemirror_mode": {
    "name": "ipython",
    "version": 2
   },
   "file_extension": ".py",
   "mimetype": "text/x-python",
   "name": "python",
   "nbconvert_exporter": "python",
   "pygments_lexer": "ipython2",
   "version": "2.7.6"
  }
 },
 "nbformat": 4,
 "nbformat_minor": 5
}
